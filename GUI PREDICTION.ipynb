{
 "cells": [
  {
   "cell_type": "code",
   "execution_count": 1,
   "metadata": {},
   "outputs": [],
   "source": [
    "from tkinter import *\n",
    "import numpy as np\n",
    "import pandas as pd\n",
    "import joblib"
   ]
  },
  {
   "cell_type": "code",
   "execution_count": 2,
   "metadata": {},
   "outputs": [],
   "source": [
    "df = pd.read_csv(\"dataset1.csv\")"
   ]
  },
  {
   "cell_type": "code",
   "execution_count": 3,
   "metadata": {},
   "outputs": [
    {
     "data": {
      "text/html": [
       "<div>\n",
       "<style scoped>\n",
       "    .dataframe tbody tr th:only-of-type {\n",
       "        vertical-align: middle;\n",
       "    }\n",
       "\n",
       "    .dataframe tbody tr th {\n",
       "        vertical-align: top;\n",
       "    }\n",
       "\n",
       "    .dataframe thead th {\n",
       "        text-align: right;\n",
       "    }\n",
       "</style>\n",
       "<table border=\"1\" class=\"dataframe\">\n",
       "  <thead>\n",
       "    <tr style=\"text-align: right;\">\n",
       "      <th></th>\n",
       "      <th>age</th>\n",
       "      <th>sex</th>\n",
       "      <th>restecg</th>\n",
       "      <th>thalach</th>\n",
       "      <th>oldpeak</th>\n",
       "      <th>slope</th>\n",
       "      <th>target</th>\n",
       "    </tr>\n",
       "  </thead>\n",
       "  <tbody>\n",
       "    <tr>\n",
       "      <td>0</td>\n",
       "      <td>63</td>\n",
       "      <td>1</td>\n",
       "      <td>0</td>\n",
       "      <td>150</td>\n",
       "      <td>2.3</td>\n",
       "      <td>0</td>\n",
       "      <td>1</td>\n",
       "    </tr>\n",
       "    <tr>\n",
       "      <td>1</td>\n",
       "      <td>37</td>\n",
       "      <td>1</td>\n",
       "      <td>1</td>\n",
       "      <td>187</td>\n",
       "      <td>3.5</td>\n",
       "      <td>0</td>\n",
       "      <td>1</td>\n",
       "    </tr>\n",
       "    <tr>\n",
       "      <td>2</td>\n",
       "      <td>41</td>\n",
       "      <td>0</td>\n",
       "      <td>0</td>\n",
       "      <td>172</td>\n",
       "      <td>1.4</td>\n",
       "      <td>2</td>\n",
       "      <td>1</td>\n",
       "    </tr>\n",
       "    <tr>\n",
       "      <td>3</td>\n",
       "      <td>56</td>\n",
       "      <td>1</td>\n",
       "      <td>1</td>\n",
       "      <td>178</td>\n",
       "      <td>0.8</td>\n",
       "      <td>2</td>\n",
       "      <td>1</td>\n",
       "    </tr>\n",
       "    <tr>\n",
       "      <td>4</td>\n",
       "      <td>57</td>\n",
       "      <td>0</td>\n",
       "      <td>1</td>\n",
       "      <td>163</td>\n",
       "      <td>0.6</td>\n",
       "      <td>2</td>\n",
       "      <td>1</td>\n",
       "    </tr>\n",
       "    <tr>\n",
       "      <td>...</td>\n",
       "      <td>...</td>\n",
       "      <td>...</td>\n",
       "      <td>...</td>\n",
       "      <td>...</td>\n",
       "      <td>...</td>\n",
       "      <td>...</td>\n",
       "      <td>...</td>\n",
       "    </tr>\n",
       "    <tr>\n",
       "      <td>298</td>\n",
       "      <td>57</td>\n",
       "      <td>0</td>\n",
       "      <td>1</td>\n",
       "      <td>123</td>\n",
       "      <td>0.2</td>\n",
       "      <td>1</td>\n",
       "      <td>0</td>\n",
       "    </tr>\n",
       "    <tr>\n",
       "      <td>299</td>\n",
       "      <td>45</td>\n",
       "      <td>1</td>\n",
       "      <td>1</td>\n",
       "      <td>132</td>\n",
       "      <td>1.2</td>\n",
       "      <td>1</td>\n",
       "      <td>0</td>\n",
       "    </tr>\n",
       "    <tr>\n",
       "      <td>300</td>\n",
       "      <td>68</td>\n",
       "      <td>1</td>\n",
       "      <td>1</td>\n",
       "      <td>141</td>\n",
       "      <td>3.4</td>\n",
       "      <td>1</td>\n",
       "      <td>0</td>\n",
       "    </tr>\n",
       "    <tr>\n",
       "      <td>301</td>\n",
       "      <td>57</td>\n",
       "      <td>1</td>\n",
       "      <td>1</td>\n",
       "      <td>115</td>\n",
       "      <td>1.2</td>\n",
       "      <td>1</td>\n",
       "      <td>0</td>\n",
       "    </tr>\n",
       "    <tr>\n",
       "      <td>302</td>\n",
       "      <td>57</td>\n",
       "      <td>0</td>\n",
       "      <td>0</td>\n",
       "      <td>174</td>\n",
       "      <td>0.0</td>\n",
       "      <td>1</td>\n",
       "      <td>0</td>\n",
       "    </tr>\n",
       "  </tbody>\n",
       "</table>\n",
       "<p>303 rows × 7 columns</p>\n",
       "</div>"
      ],
      "text/plain": [
       "     age  sex  restecg  thalach  oldpeak  slope  target\n",
       "0     63    1        0      150      2.3      0       1\n",
       "1     37    1        1      187      3.5      0       1\n",
       "2     41    0        0      172      1.4      2       1\n",
       "3     56    1        1      178      0.8      2       1\n",
       "4     57    0        1      163      0.6      2       1\n",
       "..   ...  ...      ...      ...      ...    ...     ...\n",
       "298   57    0        1      123      0.2      1       0\n",
       "299   45    1        1      132      1.2      1       0\n",
       "300   68    1        1      141      3.4      1       0\n",
       "301   57    1        1      115      1.2      1       0\n",
       "302   57    0        0      174      0.0      1       0\n",
       "\n",
       "[303 rows x 7 columns]"
      ]
     },
     "execution_count": 3,
     "metadata": {},
     "output_type": "execute_result"
    }
   ],
   "source": [
    "df"
   ]
  },
  {
   "cell_type": "code",
   "execution_count": 4,
   "metadata": {},
   "outputs": [
    {
     "data": {
      "text/plain": [
       "(303, 7)"
      ]
     },
     "execution_count": 4,
     "metadata": {},
     "output_type": "execute_result"
    }
   ],
   "source": [
    "df.shape"
   ]
  },
  {
   "cell_type": "code",
   "execution_count": 5,
   "metadata": {},
   "outputs": [
    {
     "data": {
      "text/plain": [
       "Index(['restecg', 'thalach', 'oldpeak', 'slope', 'target'], dtype='object')"
      ]
     },
     "execution_count": 5,
     "metadata": {},
     "output_type": "execute_result"
    }
   ],
   "source": [
    "df.columns\n",
    "del df['age']\n",
    "del df['sex']\n",
    "df.columns"
   ]
  },
  {
   "cell_type": "code",
   "execution_count": 6,
   "metadata": {},
   "outputs": [],
   "source": [
    "#restecg\n",
    "restecg=[0,1]\n",
    "thalac=[*range(100,200, 10)]\n",
    "oldpeak=[0.1,0.2,0.3,0.4,0.5,0.6,0.7,0.8,0.9,1.0,1.2,1.4,1.6,1.8,1.9,2.0,3.1,3.2,3.4,3.5,3.7,3.9,4.1,4.3,4.5]\n",
    "oldpeak\n",
    "slope=[0,1,2]\n"
   ]
  },
  {
   "cell_type": "code",
   "execution_count": 7,
   "metadata": {},
   "outputs": [],
   "source": [
    "# entries\n",
    "OPTIONS5 = sorted(restecg)\n",
    "OPTIONS6 = sorted(thalac)\n",
    "OPTIONS8 = sorted(oldpeak)\n",
    "OPTIONS9 = sorted(slope)\n"
   ]
  },
  {
   "cell_type": "code",
   "execution_count": 8,
   "metadata": {},
   "outputs": [
    {
     "data": {
      "text/plain": [
       "array([1, 1, 1, 1, 1, 1, 1, 1, 1, 1, 1, 1, 1, 1, 1, 1, 1, 1, 1, 1, 1, 1,\n",
       "       1, 1, 1, 1, 1, 1, 1, 1, 1, 1, 1, 1, 1, 1, 1, 1, 1, 1, 1, 1, 1, 1,\n",
       "       1, 1, 1, 1, 1, 1, 1, 1, 1, 1, 1, 1, 1, 1, 1, 1, 1, 1, 1, 1, 1, 1,\n",
       "       1, 1, 1, 1, 1, 1, 1, 1, 1, 1, 1, 1, 1, 1, 1, 1, 1, 1, 1, 1, 1, 1,\n",
       "       1, 1, 1, 1, 1, 1, 1, 1, 1, 1, 1, 1, 1, 1, 1, 1, 1, 1, 1, 1, 1, 1,\n",
       "       1, 1, 1, 1, 1, 1, 1, 1, 1, 1, 1, 1, 1, 1, 1, 1, 1, 1, 1, 1, 1, 1,\n",
       "       1, 1, 1, 1, 1, 1, 1, 1, 1, 1, 1, 1, 1, 1, 1, 1, 1, 1, 1, 1, 1, 1,\n",
       "       1, 1, 1, 1, 1, 1, 1, 1, 1, 1, 1, 0, 0, 0, 0, 0, 0, 0, 0, 0, 0, 0,\n",
       "       0, 0, 0, 0, 0, 0, 0, 0, 0, 0, 0, 0, 0, 0, 0, 0, 0, 0, 0, 0, 0, 0,\n",
       "       0, 0, 0, 0, 0, 0, 0, 0, 0, 0, 0, 0, 0, 0, 0, 0, 0, 0, 0, 0, 0, 0,\n",
       "       0, 0, 0, 0, 0, 0, 0, 0, 0, 0, 0, 0, 0, 0, 0, 0, 0, 0, 0, 0, 0, 0,\n",
       "       0, 0, 0, 0, 0, 0, 0, 0, 0, 0, 0, 0, 0, 0, 0, 0, 0, 0, 0, 0, 0, 0,\n",
       "       0, 0, 0, 0, 0, 0, 0, 0, 0, 0, 0, 0, 0, 0, 0, 0, 0, 0, 0, 0, 0, 0,\n",
       "       0, 0, 0, 0, 0, 0, 0, 0, 0, 0, 0, 0, 0, 0, 0, 0, 0], dtype=int64)"
      ]
     },
     "execution_count": 8,
     "metadata": {},
     "output_type": "execute_result"
    }
   ],
   "source": [
    "X= df.drop(labels='target', axis=1)\n",
    "y=df[['target']]\n",
    "\n",
    "\n",
    "np.ravel(y)"
   ]
  },
  {
   "cell_type": "code",
   "execution_count": 9,
   "metadata": {},
   "outputs": [
    {
     "data": {
      "text/plain": [
       "array([1, 1, 1, 1, 1, 1, 1, 1, 1, 1, 1, 1, 1, 1, 1, 1, 1, 1, 1, 1, 1, 1,\n",
       "       1, 1, 1, 1, 1, 1, 1, 1, 1, 1, 1, 1, 1, 1, 1, 1, 1, 1, 1, 1, 1, 1,\n",
       "       1, 1, 1, 1, 1, 1, 1, 1, 1, 1, 1, 1, 1, 1, 1, 1, 1, 1, 1, 1, 1, 1,\n",
       "       1, 1, 1, 1, 1, 1, 1, 1, 1, 1, 1, 1, 1, 1, 1, 1, 1, 1, 1, 1, 1, 1,\n",
       "       1, 1, 1, 1, 1, 1, 1, 1, 1, 1, 1, 1, 1, 1, 1, 1, 1, 1, 1, 1, 1, 1,\n",
       "       1, 1, 1, 1, 1, 1, 1, 1, 1, 1, 1, 1, 1, 1, 1, 1, 1, 1, 1, 1, 1, 1,\n",
       "       1, 1, 1, 1, 1, 1, 1, 1, 1, 1, 1, 1, 1, 1, 1, 1, 1, 1, 1, 1, 1, 1,\n",
       "       1, 1, 1, 1, 1, 1, 1, 1, 1, 1, 1, 0, 0, 0, 0, 0, 0, 0, 0, 0, 0, 0,\n",
       "       0, 0, 0, 0, 0, 0, 0, 0, 0, 0, 0, 0, 0, 0, 0, 0, 0, 0, 0, 0, 0, 0,\n",
       "       0, 0, 0, 0, 0, 0, 0, 0, 0, 0, 0, 0, 0, 0, 0, 0, 0, 0, 0, 0, 0, 0,\n",
       "       0, 0, 0, 0, 0, 0, 0, 0, 0, 0, 0, 0, 0, 0, 0, 0, 0, 0, 0, 0, 0, 0,\n",
       "       0, 0, 0, 0, 0, 0, 0, 0, 0, 0, 0, 0, 0, 0, 0, 0, 0, 0, 0, 0, 0, 0,\n",
       "       0, 0, 0, 0, 0, 0, 0, 0, 0, 0, 0, 0, 0, 0, 0, 0, 0, 0, 0, 0, 0, 0,\n",
       "       0, 0, 0, 0, 0, 0, 0, 0, 0, 0, 0, 0, 0, 0, 0, 0, 0], dtype=int64)"
      ]
     },
     "execution_count": 9,
     "metadata": {},
     "output_type": "execute_result"
    }
   ],
   "source": [
    "X_test= df.drop(labels='target', axis=1)\n",
    "y_test =[df.loc[:,'target']]\n",
    "np.ravel(y_test)"
   ]
  },
  {
   "cell_type": "code",
   "execution_count": 10,
   "metadata": {},
   "outputs": [
    {
     "data": {
      "text/html": [
       "<div>\n",
       "<style scoped>\n",
       "    .dataframe tbody tr th:only-of-type {\n",
       "        vertical-align: middle;\n",
       "    }\n",
       "\n",
       "    .dataframe tbody tr th {\n",
       "        vertical-align: top;\n",
       "    }\n",
       "\n",
       "    .dataframe thead th {\n",
       "        text-align: right;\n",
       "    }\n",
       "</style>\n",
       "<table border=\"1\" class=\"dataframe\">\n",
       "  <thead>\n",
       "    <tr style=\"text-align: right;\">\n",
       "      <th></th>\n",
       "      <th>restecg</th>\n",
       "      <th>thalach</th>\n",
       "      <th>oldpeak</th>\n",
       "      <th>slope</th>\n",
       "      <th>target</th>\n",
       "    </tr>\n",
       "  </thead>\n",
       "  <tbody>\n",
       "    <tr>\n",
       "      <td>0</td>\n",
       "      <td>0</td>\n",
       "      <td>150</td>\n",
       "      <td>2.3</td>\n",
       "      <td>0</td>\n",
       "      <td>1</td>\n",
       "    </tr>\n",
       "    <tr>\n",
       "      <td>1</td>\n",
       "      <td>1</td>\n",
       "      <td>187</td>\n",
       "      <td>3.5</td>\n",
       "      <td>0</td>\n",
       "      <td>1</td>\n",
       "    </tr>\n",
       "    <tr>\n",
       "      <td>2</td>\n",
       "      <td>0</td>\n",
       "      <td>172</td>\n",
       "      <td>1.4</td>\n",
       "      <td>2</td>\n",
       "      <td>1</td>\n",
       "    </tr>\n",
       "    <tr>\n",
       "      <td>3</td>\n",
       "      <td>1</td>\n",
       "      <td>178</td>\n",
       "      <td>0.8</td>\n",
       "      <td>2</td>\n",
       "      <td>1</td>\n",
       "    </tr>\n",
       "    <tr>\n",
       "      <td>4</td>\n",
       "      <td>1</td>\n",
       "      <td>163</td>\n",
       "      <td>0.6</td>\n",
       "      <td>2</td>\n",
       "      <td>1</td>\n",
       "    </tr>\n",
       "  </tbody>\n",
       "</table>\n",
       "</div>"
      ],
      "text/plain": [
       "   restecg  thalach  oldpeak  slope  target\n",
       "0        0      150      2.3      0       1\n",
       "1        1      187      3.5      0       1\n",
       "2        0      172      1.4      2       1\n",
       "3        1      178      0.8      2       1\n",
       "4        1      163      0.6      2       1"
      ]
     },
     "execution_count": 10,
     "metadata": {},
     "output_type": "execute_result"
    }
   ],
   "source": [
    "df.head()"
   ]
  },
  {
   "cell_type": "code",
   "execution_count": 11,
   "metadata": {},
   "outputs": [],
   "source": [
    "\n",
    "\n",
    "def DecisionTree():\n",
    "\n",
    "   from sklearn.externals import joblib\n",
    "   terms = [[restecg1.get(),thalac1.get(),oldpeak1.get(),slope1.get()]]\n",
    "   #load the logistic regression pickle file\n",
    "   classifier = joblib.load('final_models/dt_final.pkl')\n",
    "   #checking and predicting\n",
    "   #checkprediction = inputScript.main(url)\n",
    "   prediction = classifier.predict(terms)\n",
    "   print(prediction)\n",
    "   predicted=prediction[0]\n",
    "   t1.delete(\"1.0\", END)\n",
    "   t1.insert(END, predicted)\n",
    "\n",
    "   \n",
    "   "
   ]
  },
  {
   "cell_type": "code",
   "execution_count": 12,
   "metadata": {},
   "outputs": [],
   "source": [
    "def randomforest():\n",
    "    from sklearn.externals import joblib\n",
    "    terms = [[restecg1.get(),thalac1.get(),oldpeak1.get(),slope1.get()]]\n",
    "    #load the logistic regression pickle file\n",
    "    classifier = joblib.load('final_models/rf_final.pkl')\n",
    "   \n",
    "    prediction = classifier.predict(terms)\n",
    "    print(prediction)\n",
    "    predicted=prediction[0]\n",
    "    t2.delete(\"1.0\", END)\n",
    "    t2.insert(END, predicted)\n",
    "    \n",
    "\n"
   ]
  },
  {
   "cell_type": "code",
   "execution_count": 13,
   "metadata": {},
   "outputs": [],
   "source": [
    "\n",
    "def lr():\n",
    "    from sklearn.externals import joblib\n",
    "    terms = [[restecg1.get(),thalac1.get(),oldpeak1.get(),slope1.get()]]\n",
    "    #load the logistic regression pickle file\n",
    "    classifier = joblib.load('final_models/logisticR_final.pkl')\n",
    "    #checking and predicting\n",
    "    #checkprediction = inputScript.main(url)\n",
    "    prediction = classifier.predict(terms)\n",
    "    print(prediction)\n",
    "    predicted=prediction[0]\n",
    "    t3.delete(\"1.0\", END)\n",
    "    t3.insert(END, predicted)\n",
    "    \n",
    "    \n"
   ]
  },
  {
   "cell_type": "code",
   "execution_count": 14,
   "metadata": {},
   "outputs": [],
   "source": [
    "\n",
    "def SVC():\n",
    "    from sklearn.externals import joblib\n",
    "    \n",
    "    terms = [[restecg1.get(),thalac1.get(),oldpeak1.get(),slope1.get()]]\n",
    "    \n",
    "    \n",
    "    #load the logistic SVC pickle file\n",
    "    classifier = joblib.load('final_models/svm_final.pkl')\n",
    "    #checking and predicting\n",
    "    #checkprediction = inputScript.main(url)\n",
    "    prediction = classifier.predict(terms)\n",
    "    print(prediction)\n",
    "    predicted=prediction[0]\n",
    "\n",
    "    t4.delete(\"1.0\", END)\n",
    "    t4.insert(END, predicted)\n"
   ]
  },
  {
   "cell_type": "code",
   "execution_count": 15,
   "metadata": {},
   "outputs": [],
   "source": [
    "root = Tk()\n",
    "root.title(\"Arrythmia Prediction\")\n",
    "#root.configure(background='black')\n",
    "canvas = Canvas(root,width=1880,height=1253)\n",
    "canvas.pack()\n",
    "#photo = PhotoImage(file ='heart1.png')\n",
    "#canvas.create_image(0,0,image=photo,anchor=NW)\n",
    "\n",
    "\n",
    "# entry variables\n",
    "\n",
    "restecg1 = IntVar()\n",
    "thalac1 = IntVar()\n",
    "oldpeak1 = IntVar()\n",
    "slope1 = IntVar()\n",
    "\n",
    "# Heading\n",
    "w2 = Label(canvas, justify=LEFT, text=\"Arrythmia Prediction using Machine Learning\", fg=\"white\", bg=\"red\")\n",
    "w2.config(font=(\"Elephant\", 20))\n",
    "w2.grid(row=1, column=0, columnspan=2, padx=100)\n",
    "w2 = Label(canvas, justify=LEFT, text=\"Hospital\", fg=\"green\")\n",
    "w2.config(font=(\"Times Roman\", 15))\n",
    "w2.grid(row=2, column=0, columnspan=2, padx=100)\n",
    "\n",
    "\n",
    "\n",
    "lb5 = Label(canvas, height=1, width=30, text=\"Rest ECG\",fg=\"yellow\", bg=\"black\")\n",
    "lb5.grid(row=7, column=0, pady=15, sticky=W)\n",
    "mn5 = OptionMenu(canvas, restecg1,*OPTIONS5)\n",
    "mn5.grid(row=7, column=1)\n",
    "\n",
    "lb6 = Label(canvas, height=1, width=30, text=\"Thalac\",fg=\"yellow\", bg=\"black\")\n",
    "lb6.grid(row=8, column=0, pady=15, sticky=W)\n",
    "mn6 = OptionMenu(canvas, thalac1,*OPTIONS6)\n",
    "mn6.grid(row=8, column=1)\n",
    "\n",
    "lb8 = Label(canvas, height=1, width=30, text=\"Old Peak\",fg=\"yellow\", bg=\"black\")\n",
    "lb8.grid(row=9, column=0, pady=15, sticky=W)\n",
    "mn8 = OptionMenu(canvas, oldpeak1,*OPTIONS8)\n",
    "mn8.grid(row=9, column=1)\n",
    "\n",
    "lb9 = Label(canvas, height=1, width=30, text=\"Slope\",fg=\"yellow\", bg=\"black\")\n",
    "lb9.grid(row=10, column=0, pady=15, sticky=W)\n",
    "mn9 = OptionMenu(canvas, slope1,*OPTIONS9)\n",
    "mn9.grid(row=10, column=1)\n",
    "\n"
   ]
  },
  {
   "cell_type": "code",
   "execution_count": 16,
   "metadata": {},
   "outputs": [],
   "source": [
    "\n",
    "\n",
    "destreeLb = Label(canvas, text=\"DecisionTree\", fg=\"white\", bg=\"red\")\n",
    "destreeLb.grid(row=14, column=0, pady=10,sticky=W)\n",
    "\n",
    "ranfLb = Label(canvas, text=\"RandomForest\", fg=\"white\", bg=\"red\")\n",
    "ranfLb.grid(row=15, column=0, pady=10, sticky=W)\n",
    "\n",
    "lrLb = Label(canvas, text=\"LogisticRegression\", fg=\"white\", bg=\"red\")\n",
    "lrLb.grid(row=16, column=0, pady=10, sticky=W)\n",
    "\n",
    "\n",
    "\n",
    "svLb = Label(canvas, text=\"SVC\", fg=\"white\", bg=\"red\")\n",
    "svLb.grid(row=17, column=0, pady=10, sticky=W)"
   ]
  },
  {
   "cell_type": "code",
   "execution_count": 17,
   "metadata": {},
   "outputs": [],
   "source": [
    "\n",
    "dst = Button(canvas, text=\"DecisionTree Algorithm\", command=DecisionTree,bg=\"cyan\",fg=\"green\")\n",
    "dst.grid(row=14, column=1,padx=10)\n",
    "\n",
    "rnf = Button(canvas, text=\"Randomforest Algorithm\", command=randomforest,bg=\"cyan\",fg=\"green\")\n",
    "rnf.grid(row=15, column=1,padx=10)\n",
    "\n",
    "lr = Button(canvas, text=\"LogisticRegression Algorithm\", command=lr,bg=\"cyan\",fg=\"green\")\n",
    "lr.grid(row=16, column=1,padx=10)\n",
    "\n",
    "\n",
    "\n",
    "sv = Button(canvas, text=\"SVC Algorithm\", command=SVC,bg=\"cyan\",fg=\"green\")\n",
    "sv.grid(row=17, column=1,padx=10)"
   ]
  },
  {
   "cell_type": "code",
   "execution_count": null,
   "metadata": {},
   "outputs": [
    {
     "name": "stderr",
     "output_type": "stream",
     "text": [
      "C:\\Users\\nived\\Anaconda3\\lib\\site-packages\\sklearn\\externals\\joblib\\__init__.py:15: DeprecationWarning: sklearn.externals.joblib is deprecated in 0.21 and will be removed in 0.23. Please import this functionality directly from joblib, which can be installed with: pip install joblib. If this warning is raised when loading pickled models, you may need to re-serialize those models with scikit-learn 0.21+.\n",
      "  warnings.warn(msg, category=DeprecationWarning)\n"
     ]
    },
    {
     "name": "stdout",
     "output_type": "stream",
     "text": [
      "[0]\n",
      "[0]\n",
      "[0]\n",
      "[0]\n",
      "[1]\n",
      "[1]\n",
      "[1]\n",
      "[1]\n"
     ]
    }
   ],
   "source": [
    "\n",
    "#textfileds\n",
    "t1 = Text(canvas, height=1, width=40,bg=\"grey\",fg=\"black\")\n",
    "t1.grid(row=14, column=0, padx=10)\n",
    "\n",
    "t2 = Text(canvas, height=1, width=40,bg=\"grey\",fg=\"black\")\n",
    "t2.grid(row=15, column=0 , padx=10)\n",
    "\n",
    "t3 = Text(canvas, height=1, width=40,bg=\"grey\",fg=\"black\")\n",
    "t3.grid(row=16, column=0 , padx=10)\n",
    "\n",
    "\n",
    "t4 = Text(canvas, height=1, width=40,bg=\"grey\",fg=\"black\")\n",
    "t4.grid(row=17, column=0 , padx=10)\n",
    "\n",
    "root.mainloop()"
   ]
  },
  {
   "cell_type": "code",
   "execution_count": null,
   "metadata": {},
   "outputs": [],
   "source": []
  },
  {
   "cell_type": "code",
   "execution_count": null,
   "metadata": {},
   "outputs": [],
   "source": []
  },
  {
   "cell_type": "code",
   "execution_count": null,
   "metadata": {},
   "outputs": [],
   "source": []
  },
  {
   "cell_type": "code",
   "execution_count": null,
   "metadata": {},
   "outputs": [],
   "source": []
  }
 ],
 "metadata": {
  "kernelspec": {
   "display_name": "Python 3",
   "language": "python",
   "name": "python3"
  },
  "language_info": {
   "codemirror_mode": {
    "name": "ipython",
    "version": 3
   },
   "file_extension": ".py",
   "mimetype": "text/x-python",
   "name": "python",
   "nbconvert_exporter": "python",
   "pygments_lexer": "ipython3",
   "version": "3.7.4"
  }
 },
 "nbformat": 4,
 "nbformat_minor": 4
}
